{
 "cells": [
  {
   "cell_type": "code",
   "execution_count": 2,
   "id": "9d6cfca2",
   "metadata": {},
   "outputs": [],
   "source": [
    "import pandas as pd"
   ]
  },
  {
   "cell_type": "markdown",
   "id": "4e0c50db",
   "metadata": {},
   "source": [
    "# Ex Part 1"
   ]
  },
  {
   "cell_type": "code",
   "execution_count": null,
   "id": "e8ae2fef",
   "metadata": {},
   "outputs": [],
   "source": [
    "#Use pandas to create a Series named fruits from the following list:"
   ]
  },
  {
   "cell_type": "code",
   "execution_count": 4,
   "id": "33607fe8",
   "metadata": {},
   "outputs": [],
   "source": [
    "fruits_list =([\"kiwi\", \"mango\", \"strawberry\", \"pineapple\", \"gala apple\", \"honeycrisp apple\", \"tomato\", \"watermelon\", \"honeydew\", \"kiwi\", \"kiwi\", \"kiwi\", \"mango\", \"blueberry\", \"blackberry\", \"gooseberry\", \"papaya\"])"
   ]
  },
  {
   "cell_type": "code",
   "execution_count": 6,
   "id": "45861abb",
   "metadata": {
    "collapsed": true
   },
   "outputs": [
    {
     "data": {
      "text/plain": [
       "0                 kiwi\n",
       "1                mango\n",
       "2           strawberry\n",
       "3            pineapple\n",
       "4           gala apple\n",
       "5     honeycrisp apple\n",
       "6               tomato\n",
       "7           watermelon\n",
       "8             honeydew\n",
       "9                 kiwi\n",
       "10                kiwi\n",
       "11                kiwi\n",
       "12               mango\n",
       "13           blueberry\n",
       "14          blackberry\n",
       "15          gooseberry\n",
       "16              papaya\n",
       "dtype: object"
      ]
     },
     "execution_count": 6,
     "metadata": {},
     "output_type": "execute_result"
    }
   ],
   "source": [
    "fruits_S = pd.Series(fruits_list)\n",
    "fruits_S"
   ]
  },
  {
   "cell_type": "markdown",
   "id": "daa39476",
   "metadata": {
    "heading_collapsed": true
   },
   "source": [
    "## 1.1 Determine the number of elements in fruits."
   ]
  },
  {
   "cell_type": "code",
   "execution_count": 16,
   "id": "c5b91f99",
   "metadata": {
    "hidden": true
   },
   "outputs": [
    {
     "data": {
      "text/plain": [
       "17"
      ]
     },
     "execution_count": 16,
     "metadata": {},
     "output_type": "execute_result"
    }
   ],
   "source": [
    "fruits_S.count()"
   ]
  },
  {
   "cell_type": "markdown",
   "id": "1c6b81f6",
   "metadata": {
    "heading_collapsed": true
   },
   "source": [
    "## 1.2 Output only the index from fruits."
   ]
  },
  {
   "cell_type": "code",
   "execution_count": 18,
   "id": "a0c908dc",
   "metadata": {
    "hidden": true
   },
   "outputs": [
    {
     "data": {
      "text/plain": [
       "RangeIndex(start=0, stop=17, step=1)"
      ]
     },
     "execution_count": 18,
     "metadata": {},
     "output_type": "execute_result"
    }
   ],
   "source": [
    "fruits_S.index"
   ]
  },
  {
   "cell_type": "markdown",
   "id": "359963ac",
   "metadata": {
    "heading_collapsed": true
   },
   "source": [
    "## 1.3 Output only the values from fruits."
   ]
  },
  {
   "cell_type": "code",
   "execution_count": 20,
   "id": "6d2957ba",
   "metadata": {
    "hidden": true
   },
   "outputs": [
    {
     "data": {
      "text/plain": [
       "array(['kiwi', 'mango', 'strawberry', 'pineapple', 'gala apple',\n",
       "       'honeycrisp apple', 'tomato', 'watermelon', 'honeydew', 'kiwi',\n",
       "       'kiwi', 'kiwi', 'mango', 'blueberry', 'blackberry', 'gooseberry',\n",
       "       'papaya'], dtype=object)"
      ]
     },
     "execution_count": 20,
     "metadata": {},
     "output_type": "execute_result"
    }
   ],
   "source": [
    "fruits_S.values"
   ]
  },
  {
   "cell_type": "markdown",
   "id": "790c8bd1",
   "metadata": {
    "heading_collapsed": true
   },
   "source": [
    "## 1.4 Confirm the data type of the values in fruits."
   ]
  },
  {
   "cell_type": "code",
   "execution_count": 23,
   "id": "5a14c38b",
   "metadata": {
    "hidden": true
   },
   "outputs": [
    {
     "data": {
      "text/plain": [
       "dtype('O')"
      ]
     },
     "execution_count": 23,
     "metadata": {},
     "output_type": "execute_result"
    }
   ],
   "source": [
    "fruits_S.dtype #object string"
   ]
  },
  {
   "cell_type": "markdown",
   "id": "84bc99e7",
   "metadata": {
    "heading_collapsed": true
   },
   "source": [
    "## 1.5 Output only the first five values from fruits. \n",
    "## Output the last three values. Output two random values from fruits."
   ]
  },
  {
   "cell_type": "code",
   "execution_count": 25,
   "id": "7f49d05a",
   "metadata": {
    "hidden": true
   },
   "outputs": [
    {
     "data": {
      "text/plain": [
       "14    blackberry\n",
       "15    gooseberry\n",
       "16        papaya\n",
       "dtype: object"
      ]
     },
     "execution_count": 25,
     "metadata": {},
     "output_type": "execute_result"
    }
   ],
   "source": [
    "fruits_S.tail(3)"
   ]
  },
  {
   "cell_type": "code",
   "execution_count": 26,
   "id": "b7810f01",
   "metadata": {
    "hidden": true
   },
   "outputs": [
    {
     "data": {
      "text/plain": [
       "2     strawberry\n",
       "15    gooseberry\n",
       "dtype: object"
      ]
     },
     "execution_count": 26,
     "metadata": {},
     "output_type": "execute_result"
    }
   ],
   "source": [
    "fruits_S.sample(2)"
   ]
  },
  {
   "cell_type": "markdown",
   "id": "6c164e3f",
   "metadata": {
    "heading_collapsed": true
   },
   "source": [
    "## 1.6 Run the .describe() on fruits to see what information it returns when called on a Series with string values."
   ]
  },
  {
   "cell_type": "code",
   "execution_count": 27,
   "id": "d66d77c3",
   "metadata": {
    "hidden": true
   },
   "outputs": [
    {
     "data": {
      "text/plain": [
       "count       17\n",
       "unique      13\n",
       "top       kiwi\n",
       "freq         4\n",
       "dtype: object"
      ]
     },
     "execution_count": 27,
     "metadata": {},
     "output_type": "execute_result"
    }
   ],
   "source": [
    "fruits_S.describe()"
   ]
  },
  {
   "cell_type": "markdown",
   "id": "c8b0ce87",
   "metadata": {},
   "source": [
    "## 1.7 Run the code necessary to produce only the unique string values from fruits."
   ]
  },
  {
   "cell_type": "code",
   "execution_count": 132,
   "id": "73c16442",
   "metadata": {},
   "outputs": [
    {
     "data": {
      "text/plain": [
       "array(['kiwi', 'mango', 'strawberry', 'pineapple', 'gala apple',\n",
       "       'honeycrisp apple', 'tomato', 'watermelon', 'honeydew',\n",
       "       'blueberry', 'blackberry', 'gooseberry', 'papaya'], dtype=object)"
      ]
     },
     "execution_count": 132,
     "metadata": {},
     "output_type": "execute_result"
    }
   ],
   "source": [
    "fruits_S.unique()\n",
    "## print(fruits_S.nunique()) ##number of unique vals"
   ]
  },
  {
   "cell_type": "markdown",
   "id": "2b2e3563",
   "metadata": {},
   "source": [
    "## 1.8 Determine how many times each unique string value occurs in fruits."
   ]
  },
  {
   "cell_type": "code",
   "execution_count": 30,
   "id": "73105769",
   "metadata": {},
   "outputs": [
    {
     "data": {
      "text/plain": [
       "kiwi                4\n",
       "mango               2\n",
       "strawberry          1\n",
       "pineapple           1\n",
       "gala apple          1\n",
       "honeycrisp apple    1\n",
       "tomato              1\n",
       "watermelon          1\n",
       "honeydew            1\n",
       "blueberry           1\n",
       "blackberry          1\n",
       "gooseberry          1\n",
       "papaya              1\n",
       "Name: count, dtype: int64"
      ]
     },
     "execution_count": 30,
     "metadata": {},
     "output_type": "execute_result"
    }
   ],
   "source": [
    "fruits_S.value_counts()"
   ]
  },
  {
   "cell_type": "markdown",
   "id": "51e2edf8",
   "metadata": {},
   "source": [
    "## 1.9 Determine the string value that occurs most frequently in fruits."
   ]
  },
  {
   "cell_type": "code",
   "execution_count": 31,
   "id": "f42b92b2",
   "metadata": {},
   "outputs": [
    {
     "data": {
      "text/plain": [
       "0    kiwi\n",
       "dtype: object"
      ]
     },
     "execution_count": 31,
     "metadata": {},
     "output_type": "execute_result"
    }
   ],
   "source": [
    "fruits_S.mode()"
   ]
  },
  {
   "cell_type": "markdown",
   "id": "18ca4e51",
   "metadata": {},
   "source": [
    "## 1.10 Determine the string value that occurs least frequently in fruits."
   ]
  },
  {
   "cell_type": "code",
   "execution_count": 139,
   "id": "e657ba64",
   "metadata": {
    "scrolled": true
   },
   "outputs": [
    {
     "data": {
      "text/plain": [
       "watermelon    1\n",
       "Name: count, dtype: int64"
      ]
     },
     "execution_count": 139,
     "metadata": {},
     "output_type": "execute_result"
    }
   ],
   "source": [
    "fruits_S.sort_values().value_counts().nsmallest(n=1 , keep = 'last')"
   ]
  },
  {
   "cell_type": "markdown",
   "id": "8b421f35",
   "metadata": {},
   "source": [
    "# Ex Part 2 \n",
    "\n",
    "Explore more attributes and methods while you continue to work with the fruits Series."
   ]
  },
  {
   "cell_type": "markdown",
   "id": "ca32db58",
   "metadata": {},
   "source": [
    "## 2.1 Capitalize all the string values in fruits."
   ]
  },
  {
   "cell_type": "code",
   "execution_count": 141,
   "id": "bf4ec06b",
   "metadata": {
    "scrolled": true
   },
   "outputs": [
    {
     "data": {
      "text/plain": [
       "0                 Kiwi\n",
       "1                Mango\n",
       "2           Strawberry\n",
       "3            Pineapple\n",
       "4           Gala apple\n",
       "5     Honeycrisp apple\n",
       "6               Tomato\n",
       "7           Watermelon\n",
       "8             Honeydew\n",
       "9                 Kiwi\n",
       "10                Kiwi\n",
       "11                Kiwi\n",
       "12               Mango\n",
       "13           Blueberry\n",
       "14          Blackberry\n",
       "15          Gooseberry\n",
       "16              Papaya\n",
       "dtype: object"
      ]
     },
     "execution_count": 141,
     "metadata": {},
     "output_type": "execute_result"
    }
   ],
   "source": [
    "fruits_S.str.capitalize()"
   ]
  },
  {
   "cell_type": "code",
   "execution_count": null,
   "id": "e4d830d8",
   "metadata": {},
   "outputs": [],
   "source": [
    "## 2.2 Count the letter \"a\" in all the string values (use string vectorization)."
   ]
  },
  {
   "cell_type": "code",
   "execution_count": 145,
   "id": "41eaf46c",
   "metadata": {},
   "outputs": [],
   "source": [
    "def count_a(string):\n",
    "    target = 'a'\n",
    "    count = 0\n",
    "    for letter in string:\n",
    "        if letter == target:\n",
    "            count +=1\n",
    "    return f'{string} {count}'"
   ]
  },
  {
   "cell_type": "code",
   "execution_count": 146,
   "id": "ed2cfa0e",
   "metadata": {},
   "outputs": [
    {
     "data": {
      "text/plain": [
       "'alphabet 2'"
      ]
     },
     "execution_count": 146,
     "metadata": {},
     "output_type": "execute_result"
    }
   ],
   "source": [
    "count_a('alphabet')"
   ]
  },
  {
   "cell_type": "code",
   "execution_count": 147,
   "id": "01391703",
   "metadata": {},
   "outputs": [
    {
     "data": {
      "text/plain": [
       "0                 kiwi 0\n",
       "1                mango 1\n",
       "2           strawberry 1\n",
       "3            pineapple 1\n",
       "4           gala apple 3\n",
       "5     honeycrisp apple 1\n",
       "6               tomato 1\n",
       "7           watermelon 1\n",
       "8             honeydew 0\n",
       "9                 kiwi 0\n",
       "10                kiwi 0\n",
       "11                kiwi 0\n",
       "12               mango 1\n",
       "13           blueberry 0\n",
       "14          blackberry 1\n",
       "15          gooseberry 0\n",
       "16              papaya 3\n",
       "dtype: object"
      ]
     },
     "execution_count": 147,
     "metadata": {},
     "output_type": "execute_result"
    }
   ],
   "source": [
    "fruits_S.apply(count_a)"
   ]
  },
  {
   "cell_type": "code",
   "execution_count": null,
   "id": "c8a12e7f",
   "metadata": {},
   "outputs": [],
   "source": [
    "## 2.3 Output the number of vowels in each and every string value."
   ]
  },
  {
   "cell_type": "code",
   "execution_count": 148,
   "id": "416b7ecd",
   "metadata": {},
   "outputs": [],
   "source": [
    "def count_vowels(string):\n",
    "    target = list('aeiou')\n",
    "    count = 0\n",
    "    for letter in string:\n",
    "        if letter in target:\n",
    "            count +=1\n",
    "    return f'{string} {count}'"
   ]
  },
  {
   "cell_type": "code",
   "execution_count": 149,
   "id": "1edf96c1",
   "metadata": {},
   "outputs": [
    {
     "data": {
      "text/plain": [
       "'alphabet 3'"
      ]
     },
     "execution_count": 149,
     "metadata": {},
     "output_type": "execute_result"
    }
   ],
   "source": [
    "count_vowels('alphabet')"
   ]
  },
  {
   "cell_type": "code",
   "execution_count": 150,
   "id": "2b516ac1",
   "metadata": {},
   "outputs": [
    {
     "data": {
      "text/plain": [
       "0                 kiwi 2\n",
       "1                mango 2\n",
       "2           strawberry 2\n",
       "3            pineapple 4\n",
       "4           gala apple 4\n",
       "5     honeycrisp apple 5\n",
       "6               tomato 3\n",
       "7           watermelon 4\n",
       "8             honeydew 3\n",
       "9                 kiwi 2\n",
       "10                kiwi 2\n",
       "11                kiwi 2\n",
       "12               mango 2\n",
       "13           blueberry 3\n",
       "14          blackberry 2\n",
       "15          gooseberry 4\n",
       "16              papaya 3\n",
       "dtype: object"
      ]
     },
     "execution_count": 150,
     "metadata": {},
     "output_type": "execute_result"
    }
   ],
   "source": [
    "fruits_S.apply(count_vowels)"
   ]
  },
  {
   "cell_type": "code",
   "execution_count": null,
   "id": "6bc29412",
   "metadata": {},
   "outputs": [],
   "source": [
    "## 2.4 Write the code to get the longest string value from fruits."
   ]
  },
  {
   "cell_type": "code",
   "execution_count": 156,
   "id": "90a48976",
   "metadata": {},
   "outputs": [
    {
     "data": {
      "text/plain": [
       "5    honeycrisp apple\n",
       "dtype: object"
      ]
     },
     "execution_count": 156,
     "metadata": {},
     "output_type": "execute_result"
    }
   ],
   "source": [
    "fruits_S[(fruits_S.str.len()) == fruits_S.str.len().max()]"
   ]
  },
  {
   "cell_type": "code",
   "execution_count": null,
   "id": "b7655412",
   "metadata": {},
   "outputs": [],
   "source": [
    "## 2.5 Write the code to get the string values with 5 or more letters in the name."
   ]
  },
  {
   "cell_type": "code",
   "execution_count": 86,
   "id": "4146bc0a",
   "metadata": {},
   "outputs": [
    {
     "data": {
      "text/plain": [
       "2           strawberry\n",
       "3            pineapple\n",
       "4           gala apple\n",
       "5     honeycrisp apple\n",
       "6               tomato\n",
       "7           watermelon\n",
       "8             honeydew\n",
       "13           blueberry\n",
       "14          blackberry\n",
       "15          gooseberry\n",
       "16              papaya\n",
       "dtype: object"
      ]
     },
     "execution_count": 86,
     "metadata": {},
     "output_type": "execute_result"
    }
   ],
   "source": [
    "fruits_S[fruits_S.str.len() > 5]"
   ]
  },
  {
   "cell_type": "code",
   "execution_count": null,
   "id": "cb8c955a",
   "metadata": {},
   "outputs": [],
   "source": [
    "## 2.6 Find the fruit(s) containing the letter \"o\" two or more times."
   ]
  },
  {
   "cell_type": "code",
   "execution_count": 87,
   "id": "96b5fa02",
   "metadata": {},
   "outputs": [],
   "source": [
    "def count_o(string):\n",
    "    target = 'o'\n",
    "    count = 0\n",
    "    for letter in string:\n",
    "        if letter == target:\n",
    "            count +=1\n",
    "    return count"
   ]
  },
  {
   "cell_type": "code",
   "execution_count": 88,
   "id": "8520c933",
   "metadata": {},
   "outputs": [
    {
     "data": {
      "text/plain": [
       "6         tomato\n",
       "15    gooseberry\n",
       "dtype: object"
      ]
     },
     "execution_count": 88,
     "metadata": {},
     "output_type": "execute_result"
    }
   ],
   "source": [
    "fruits_S[fruits_S.apply(count_o) >= 2 ]"
   ]
  },
  {
   "cell_type": "code",
   "execution_count": 39,
   "id": "f71c9d1a",
   "metadata": {},
   "outputs": [],
   "source": [
    "## 2.7 Write the code to get only the string values containing the substring \"berry\"."
   ]
  },
  {
   "cell_type": "code",
   "execution_count": 93,
   "id": "efac9cf3",
   "metadata": {},
   "outputs": [],
   "source": [
    "def has_berry(string):\n",
    "    target = ('berry')\n",
    "    \n",
    "    if target in string:\n",
    "            \n",
    "        return True"
   ]
  },
  {
   "cell_type": "code",
   "execution_count": 95,
   "id": "66035a3a",
   "metadata": {},
   "outputs": [
    {
     "data": {
      "text/plain": [
       "True"
      ]
     },
     "execution_count": 95,
     "metadata": {},
     "output_type": "execute_result"
    }
   ],
   "source": [
    "has_berry('skdjbfcuiwdbcwberrysjbcw')"
   ]
  },
  {
   "cell_type": "code",
   "execution_count": 96,
   "id": "5d653600",
   "metadata": {},
   "outputs": [
    {
     "data": {
      "text/plain": [
       "2     strawberry\n",
       "13     blueberry\n",
       "14    blackberry\n",
       "15    gooseberry\n",
       "dtype: object"
      ]
     },
     "execution_count": 96,
     "metadata": {},
     "output_type": "execute_result"
    }
   ],
   "source": [
    "fruits_S[fruits_S.apply(has_berry) == True ]"
   ]
  },
  {
   "cell_type": "code",
   "execution_count": 40,
   "id": "f883e37f",
   "metadata": {},
   "outputs": [],
   "source": [
    "## 2.8 Write the code to get only the string values containing the substring \"apple\"."
   ]
  },
  {
   "cell_type": "code",
   "execution_count": 97,
   "id": "a79f44c3",
   "metadata": {},
   "outputs": [],
   "source": [
    "def has_apple(string):\n",
    "    target = ('apple')\n",
    "    \n",
    "    if target in string:\n",
    "            \n",
    "        return True"
   ]
  },
  {
   "cell_type": "code",
   "execution_count": 98,
   "id": "bbc077dc",
   "metadata": {},
   "outputs": [
    {
     "data": {
      "text/plain": [
       "3           pineapple\n",
       "4          gala apple\n",
       "5    honeycrisp apple\n",
       "dtype: object"
      ]
     },
     "execution_count": 98,
     "metadata": {},
     "output_type": "execute_result"
    }
   ],
   "source": [
    "fruits_S[fruits_S.apply(has_apple) == True ]"
   ]
  },
  {
   "cell_type": "code",
   "execution_count": null,
   "id": "c34ea21f",
   "metadata": {},
   "outputs": [],
   "source": [
    "## 2.9 Which string value contains the most vowels?"
   ]
  },
  {
   "cell_type": "code",
   "execution_count": 100,
   "id": "902ad9ad",
   "metadata": {},
   "outputs": [
    {
     "data": {
      "text/plain": [
       "'honeycrisp apple'"
      ]
     },
     "execution_count": 100,
     "metadata": {},
     "output_type": "execute_result"
    }
   ],
   "source": [
    "fruits_S[fruits_S.apply(count_vowels).max()]"
   ]
  },
  {
   "cell_type": "code",
   "execution_count": 101,
   "id": "03277f1a",
   "metadata": {},
   "outputs": [
    {
     "data": {
      "text/plain": [
       "0                 kiwi\n",
       "1                mango\n",
       "2           strawberry\n",
       "3            pineapple\n",
       "4           gala apple\n",
       "5     honeycrisp apple\n",
       "6               tomato\n",
       "7           watermelon\n",
       "8             honeydew\n",
       "9                 kiwi\n",
       "10                kiwi\n",
       "11                kiwi\n",
       "12               mango\n",
       "13           blueberry\n",
       "14          blackberry\n",
       "15          gooseberry\n",
       "16              papaya\n",
       "dtype: object"
      ]
     },
     "execution_count": 101,
     "metadata": {},
     "output_type": "execute_result"
    }
   ],
   "source": [
    "fruits_S[fruits_S.apply(count_vowels) > 1 ]"
   ]
  },
  {
   "cell_type": "markdown",
   "id": "a0ad9b17",
   "metadata": {},
   "source": [
    "# Ex Part 3"
   ]
  },
  {
   "cell_type": "markdown",
   "id": "1b14ed64",
   "metadata": {},
   "source": [
    "## 3.A\n",
    "\n",
    "Use pandas to create a Series named letters from the following string. The easiest way to make this string into a Pandas series is to use list to convert each individual letter into a single string on a basic Python list."
   ]
  },
  {
   "cell_type": "code",
   "execution_count": 105,
   "id": "869f5622",
   "metadata": {},
   "outputs": [],
   "source": [
    "letters = list('hnvidduckkqxwymbimkccexbkmqygkxoyndmcxnwqarhyffsjpsrabtjzsypmzadfavyrnndndvswreauxovncxtwzpwejilzjrmmbbgbyxvjtewqthafnbkqplarokkyydtubbmnexoypulzwfhqvckdpqtpoppzqrmcvhhpwgjwupgzhiofohawytlsiyecuproguy')"
   ]
  },
  {
   "cell_type": "code",
   "execution_count": 106,
   "id": "745337ac",
   "metadata": {},
   "outputs": [],
   "source": [
    "letters_S = pd.Series(letters)"
   ]
  },
  {
   "cell_type": "code",
   "execution_count": 107,
   "id": "43843003",
   "metadata": {},
   "outputs": [],
   "source": [
    "## 3.1 Which letter occurs the most frequently in the letters Series?"
   ]
  },
  {
   "cell_type": "code",
   "execution_count": 163,
   "id": "22a03ae0",
   "metadata": {},
   "outputs": [
    {
     "data": {
      "text/plain": [
       "13"
      ]
     },
     "execution_count": 163,
     "metadata": {},
     "output_type": "execute_result"
    }
   ],
   "source": [
    "letters_S.value_counts().max()"
   ]
  },
  {
   "cell_type": "code",
   "execution_count": 108,
   "id": "10c51782",
   "metadata": {},
   "outputs": [],
   "source": [
    "## 3.2 Which letter occurs the Least frequently?"
   ]
  },
  {
   "cell_type": "code",
   "execution_count": 165,
   "id": "0735445c",
   "metadata": {},
   "outputs": [
    {
     "data": {
      "text/plain": [
       "'d'"
      ]
     },
     "execution_count": 165,
     "metadata": {},
     "output_type": "execute_result"
    }
   ],
   "source": [
    "letters_S[letters_S.value_counts().min()]"
   ]
  },
  {
   "cell_type": "code",
   "execution_count": 109,
   "id": "19a8c126",
   "metadata": {},
   "outputs": [],
   "source": [
    "## 3.3 How many vowels are in the Series?"
   ]
  },
  {
   "cell_type": "code",
   "execution_count": 170,
   "id": "db9c6a28",
   "metadata": {},
   "outputs": [
    {
     "data": {
      "text/plain": [
       "0      h 0\n",
       "1      n 0\n",
       "2      v 0\n",
       "3      i 1\n",
       "4      d 0\n",
       "      ... \n",
       "195    r 0\n",
       "196    o 1\n",
       "197    g 0\n",
       "198    u 1\n",
       "199    y 0\n",
       "Length: 200, dtype: object"
      ]
     },
     "execution_count": 170,
     "metadata": {},
     "output_type": "execute_result"
    }
   ],
   "source": [
    "letters_S.apply(count_vowels)"
   ]
  },
  {
   "cell_type": "code",
   "execution_count": 110,
   "id": "7a1ae2e3",
   "metadata": {},
   "outputs": [],
   "source": [
    "## 3.4 How many consonants are in the Series?"
   ]
  },
  {
   "cell_type": "code",
   "execution_count": 172,
   "id": "ba9a5575",
   "metadata": {},
   "outputs": [],
   "source": [
    "def count_consonants(string):\n",
    "    target = list('aeiou')\n",
    "    count = 0\n",
    "    for letter in string:\n",
    "        if letter not in target:\n",
    "            count +=1\n",
    "    return f'{string} {count}'"
   ]
  },
  {
   "cell_type": "code",
   "execution_count": 173,
   "id": "e118910d",
   "metadata": {},
   "outputs": [
    {
     "data": {
      "text/plain": [
       "0      h 1\n",
       "1      n 1\n",
       "2      v 1\n",
       "3      i 0\n",
       "4      d 1\n",
       "      ... \n",
       "195    r 1\n",
       "196    o 0\n",
       "197    g 1\n",
       "198    u 0\n",
       "199    y 1\n",
       "Length: 200, dtype: object"
      ]
     },
     "execution_count": 173,
     "metadata": {},
     "output_type": "execute_result"
    }
   ],
   "source": [
    "letters_S.apply(count_consonants)"
   ]
  },
  {
   "cell_type": "code",
   "execution_count": 111,
   "id": "2cd32708",
   "metadata": {},
   "outputs": [],
   "source": [
    "## 3.5 Create a Series that has all of the same letters but uppercased."
   ]
  },
  {
   "cell_type": "code",
   "execution_count": 176,
   "id": "e96c2f31",
   "metadata": {},
   "outputs": [
    {
     "data": {
      "text/plain": [
       "0      H\n",
       "1      N\n",
       "2      V\n",
       "3      I\n",
       "4      D\n",
       "      ..\n",
       "195    R\n",
       "196    O\n",
       "197    G\n",
       "198    U\n",
       "199    Y\n",
       "Length: 200, dtype: object"
      ]
     },
     "execution_count": 176,
     "metadata": {},
     "output_type": "execute_result"
    }
   ],
   "source": [
    "letters_S.str.upper()"
   ]
  },
  {
   "cell_type": "code",
   "execution_count": 112,
   "id": "6196464a",
   "metadata": {},
   "outputs": [],
   "source": [
    "## 3.6 Create a bar plot of the frequencies of the 6 most commonly occuring letters."
   ]
  },
  {
   "cell_type": "code",
   "execution_count": 177,
   "id": "fddef5af",
   "metadata": {},
   "outputs": [],
   "source": [
    "sixMost = letters_S.value_counts().nlargest(n=6)\n",
    "\n",
    "import matplotlib.pyplot as plt"
   ]
  },
  {
   "cell_type": "code",
   "execution_count": 178,
   "id": "b8c6fcc2",
   "metadata": {},
   "outputs": [
    {
     "data": {
      "image/png": "[encoded data removed]",
      "text/plain": [
       "<Figure size 640x480 with 1 Axes>"
      ]
     },
     "metadata": {},
     "output_type": "display_data"
    }
   ],
   "source": [
    "plt.bar(sixMost.index,sixMost.values)\n",
    "\n",
    "plt.show()"
   ]
  },
  {
   "cell_type": "markdown",
   "id": "61075d81",
   "metadata": {},
   "source": [
    "## 3.B\n",
    "\n",
    "Use pandas to create a Series named numbers from the following list:"
   ]
  },
  {
   "cell_type": "code",
   "execution_count": 113,
   "id": "0e0db1f4",
   "metadata": {},
   "outputs": [],
   "source": [
    "numbers = ['$796,459.41', '$278.60', '$482,571.67', '$4,503,915.98', '$2,121,418.3', '$1,260,813.3', '$87,231.01', '$1,509,175.45', '$4,138,548.00', '$2,848,913.80', '$594,715.39', '$4,789,988.17', '$4,513,644.5', '$3,191,059.97', '$1,758,712.24', '$4,338,283.54', '$4,738,303.38', '$2,791,759.67', '$769,681.94', '$452,650.23']"
   ]
  },
  {
   "cell_type": "code",
   "execution_count": 114,
   "id": "7bad0650",
   "metadata": {},
   "outputs": [],
   "source": [
    "numbers_S = pd.Series(numbers)"
   ]
  },
  {
   "cell_type": "code",
   "execution_count": 115,
   "id": "9e49358d",
   "metadata": {},
   "outputs": [],
   "source": [
    "## 3.1 What is the data type of the numbers Series?"
   ]
  },
  {
   "cell_type": "code",
   "execution_count": 181,
   "id": "460f66ee",
   "metadata": {},
   "outputs": [
    {
     "data": {
      "text/plain": [
       "count              20\n",
       "unique             20\n",
       "top       $796,459.41\n",
       "freq                1\n",
       "dtype: object"
      ]
     },
     "execution_count": 181,
     "metadata": {},
     "output_type": "execute_result"
    }
   ],
   "source": [
    "numbers_S.describe()"
   ]
  },
  {
   "cell_type": "code",
   "execution_count": 116,
   "id": "c19d5b74",
   "metadata": {},
   "outputs": [],
   "source": [
    "## 3.2 How many elements are in the number Series?"
   ]
  },
  {
   "cell_type": "code",
   "execution_count": 182,
   "id": "f8130689",
   "metadata": {},
   "outputs": [
    {
     "data": {
      "text/plain": [
       "20"
      ]
     },
     "execution_count": 182,
     "metadata": {},
     "output_type": "execute_result"
    }
   ],
   "source": [
    "numbers_S.count()"
   ]
  },
  {
   "cell_type": "code",
   "execution_count": 117,
   "id": "650f1414",
   "metadata": {},
   "outputs": [],
   "source": [
    "## 3.3 Perform the necessary manipulations by accessing Series attributes and methods to convert the numbers Series to a numeric data type."
   ]
  },
  {
   "cell_type": "code",
   "execution_count": 183,
   "id": "26eabe9d",
   "metadata": {},
   "outputs": [
    {
     "data": {
      "text/plain": [
       "20"
      ]
     },
     "execution_count": 183,
     "metadata": {},
     "output_type": "execute_result"
    }
   ],
   "source": []
  },
  {
   "cell_type": "code",
   "execution_count": 118,
   "id": "bbf69c7d",
   "metadata": {},
   "outputs": [],
   "source": [
    "## 3.4 Run the code to discover the maximum value from the Series."
   ]
  },
  {
   "cell_type": "code",
   "execution_count": 119,
   "id": "176e37a6",
   "metadata": {},
   "outputs": [],
   "source": [
    "## 3.5 Run the code to discover the minimum value from the Series."
   ]
  },
  {
   "cell_type": "code",
   "execution_count": 120,
   "id": "122d1570",
   "metadata": {},
   "outputs": [],
   "source": [
    "## 3.6 What is the range of the values in the Series?"
   ]
  },
  {
   "cell_type": "code",
   "execution_count": 121,
   "id": "129e1b1c",
   "metadata": {},
   "outputs": [],
   "source": [
    "## 3.7 Bin the data into 4 equally sized intervals or bins and output how many values fall into each bin."
   ]
  },
  {
   "cell_type": "code",
   "execution_count": 122,
   "id": "ce34dff6",
   "metadata": {},
   "outputs": [],
   "source": [
    "## 3.8 Plot the binned data in a meaningful way. Be sure to include a title and axis labels."
   ]
  },
  {
   "cell_type": "markdown",
   "id": "cfb674b5",
   "metadata": {
    "heading_collapsed": true
   },
   "source": [
    "## 3.C\n",
    "\n",
    "Use pandas to create a Series named exam_scores from the following list:"
   ]
  },
  {
   "cell_type": "code",
   "execution_count": 123,
   "id": "c9fe9ffe",
   "metadata": {
    "hidden": true
   },
   "outputs": [],
   "source": [
    "exam_scores = [60, 86, 75, 62, 93, 71, 60, 83, 95, 78, 65, 72, 69, 81, 96, 80, 85, 92, 82, 78]"
   ]
  },
  {
   "cell_type": "code",
   "execution_count": 124,
   "id": "dc2dfbcf",
   "metadata": {
    "hidden": true
   },
   "outputs": [],
   "source": [
    "exam_scores_S = pd.Series(exam_scores)"
   ]
  },
  {
   "cell_type": "code",
   "execution_count": 125,
   "id": "ef3f82ab",
   "metadata": {
    "hidden": true
   },
   "outputs": [],
   "source": [
    "## 3.1 How many elements are in the exam_scores Series?"
   ]
  },
  {
   "cell_type": "code",
   "execution_count": 126,
   "id": "c8f46eac",
   "metadata": {
    "hidden": true
   },
   "outputs": [],
   "source": [
    "## 3.2 Run the code to discover the minimum, the maximum, the mean, and the median scores for the exam_scores Series."
   ]
  },
  {
   "cell_type": "code",
   "execution_count": 127,
   "id": "38209fce",
   "metadata": {
    "hidden": true
   },
   "outputs": [],
   "source": [
    "## 3.3 Plot the Series in a meaningful way and make sure your chart has a title and axis labels."
   ]
  },
  {
   "cell_type": "code",
   "execution_count": 128,
   "id": "b757fd7c",
   "metadata": {
    "hidden": true
   },
   "outputs": [],
   "source": [
    "## 3.4 Write the code necessary to implement a curve for your exam_grades Series and save this as curved_grades. Add the necessary points to the highest grade to make it 100, and add the same number of points to every other score in the Series as well."
   ]
  },
  {
   "cell_type": "code",
   "execution_count": 129,
   "id": "7f6434dc",
   "metadata": {
    "hidden": true
   },
   "outputs": [],
   "source": [
    "## 3.5 Use a method to convert each of the numeric values in the curved_grades Series into a categorical value of letter grades. For example, 86 should be a 'B' and 95 should be an 'A'. Save this as a Series named letter_grades."
   ]
  },
  {
   "cell_type": "code",
   "execution_count": null,
   "id": "fdf28661",
   "metadata": {
    "hidden": true
   },
   "outputs": [],
   "source": [
    "## 3.6 Plot your new categorical letter_grades Series in a meaninful way and include a title and axis labels."
   ]
  }
 ],
 "metadata": {
  "kernelspec": {
   "display_name": "Python 3 (ipykernel)",
   "language": "python",
   "name": "python3"
  },
  "language_info": {
   "codemirror_mode": {
    "name": "ipython",
    "version": 3
   },
   "file_extension": ".py",
   "mimetype": "text/x-python",
   "name": "python",
   "nbconvert_exporter": "python",
   "pygments_lexer": "ipython3",
   "version": "3.11.5"
  }
 },
 "nbformat": 4,
 "nbformat_minor": 5
}
