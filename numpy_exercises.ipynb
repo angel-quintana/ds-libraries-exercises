{
 "cells": [
  {
   "cell_type": "markdown",
   "id": "293c5835",
   "metadata": {},
   "source": [
    "# Use the following code for the questions below:"
   ]
  },
  {
   "cell_type": "code",
   "execution_count": 3,
   "id": "755cf158",
   "metadata": {},
   "outputs": [],
   "source": [
    "import numpy as np"
   ]
  },
  {
   "cell_type": "code",
   "execution_count": 4,
   "id": "653ee6c2",
   "metadata": {},
   "outputs": [],
   "source": [
    "a = np.array([4, 10, 12, 23, -2, -1, 0, 0, 0, -6, 3, -7])"
   ]
  },
  {
   "cell_type": "markdown",
   "id": "ef7137ff",
   "metadata": {
    "heading_collapsed": true
   },
   "source": [
    "## ex 1. How many negative numbers are there?"
   ]
  },
  {
   "cell_type": "code",
   "execution_count": 5,
   "id": "57ca88e6",
   "metadata": {
    "hidden": true
   },
   "outputs": [
    {
     "data": {
      "text/plain": [
       "array([False, False, False, False,  True,  True, False, False, False,\n",
       "        True, False,  True])"
      ]
     },
     "execution_count": 5,
     "metadata": {},
     "output_type": "execute_result"
    }
   ],
   "source": [
    "neg_mask = a < 0 \n",
    "neg_mask"
   ]
  },
  {
   "cell_type": "code",
   "execution_count": 7,
   "id": "d8e2a166",
   "metadata": {
    "hidden": true
   },
   "outputs": [
    {
     "data": {
      "text/plain": [
       "4"
      ]
     },
     "execution_count": 7,
     "metadata": {},
     "output_type": "execute_result"
    }
   ],
   "source": [
    "len(a[neg_mask])"
   ]
  },
  {
   "cell_type": "markdown",
   "id": "77294c48",
   "metadata": {
    "heading_collapsed": true
   },
   "source": [
    "## ex 2. How many positive numbers are there?"
   ]
  },
  {
   "cell_type": "code",
   "execution_count": 8,
   "id": "30c8281e",
   "metadata": {
    "hidden": true
   },
   "outputs": [
    {
     "data": {
      "text/plain": [
       "array([ True,  True,  True,  True, False, False, False, False, False,\n",
       "       False,  True, False])"
      ]
     },
     "execution_count": 8,
     "metadata": {},
     "output_type": "execute_result"
    }
   ],
   "source": [
    "pos_mask = a > 0 \n",
    "pos_mask"
   ]
  },
  {
   "cell_type": "code",
   "execution_count": 9,
   "id": "a293528b",
   "metadata": {
    "hidden": true
   },
   "outputs": [
    {
     "data": {
      "text/plain": [
       "5"
      ]
     },
     "execution_count": 9,
     "metadata": {},
     "output_type": "execute_result"
    }
   ],
   "source": [
    "len(a[pos_mask])"
   ]
  },
  {
   "cell_type": "markdown",
   "id": "e92adc07",
   "metadata": {
    "heading_collapsed": true
   },
   "source": [
    "## ex 3. How many even positive numbers are there?"
   ]
  },
  {
   "cell_type": "code",
   "execution_count": 55,
   "id": "1c981d1e",
   "metadata": {
    "hidden": true
   },
   "outputs": [
    {
     "data": {
      "text/plain": [
       "array([ 4, 10, 12,  0,  0,  0])"
      ]
     },
     "execution_count": 55,
     "metadata": {},
     "output_type": "execute_result"
    }
   ],
   "source": [
    "even_mask= a%2 == 0\n",
    "a[even_mask]\n",
    "a[pos_even_mask]"
   ]
  },
  {
   "cell_type": "code",
   "execution_count": 49,
   "id": "6f6c2db8",
   "metadata": {
    "hidden": true
   },
   "outputs": [
    {
     "data": {
      "text/plain": [
       "6"
      ]
     },
     "execution_count": 49,
     "metadata": {},
     "output_type": "execute_result"
    }
   ],
   "source": [
    "pos_even_mask = (a >= 0) & (a%2 == 0)\n",
    "len(a[pos_even_mask])"
   ]
  },
  {
   "cell_type": "markdown",
   "id": "0c330b37",
   "metadata": {
    "heading_collapsed": true
   },
   "source": [
    "## ex 4. If you were to add 3 to each data point, how many positive numbers would there be?"
   ]
  },
  {
   "cell_type": "code",
   "execution_count": 62,
   "id": "7819baa5",
   "metadata": {
    "hidden": true
   },
   "outputs": [],
   "source": [
    "b = a+3"
   ]
  },
  {
   "cell_type": "code",
   "execution_count": 63,
   "id": "ffe28144",
   "metadata": {
    "hidden": true
   },
   "outputs": [
    {
     "data": {
      "text/plain": [
       "array([ 7, 13, 15, 26,  1,  2,  3,  3,  3, -3,  6, -4])"
      ]
     },
     "execution_count": 63,
     "metadata": {},
     "output_type": "execute_result"
    }
   ],
   "source": [
    "b"
   ]
  },
  {
   "cell_type": "code",
   "execution_count": 68,
   "id": "2ff9a5a2",
   "metadata": {
    "hidden": true
   },
   "outputs": [
    {
     "data": {
      "text/plain": [
       "3"
      ]
     },
     "execution_count": 68,
     "metadata": {},
     "output_type": "execute_result"
    }
   ],
   "source": [
    "bpem= (b>=0) & (b%2==0)\n",
    "b[bpem]\n",
    "len(b[bpem])"
   ]
  },
  {
   "cell_type": "markdown",
   "id": "171f9218",
   "metadata": {},
   "source": [
    "## ex 5. If you squared each number, what would the new mean and standard deviation be?"
   ]
  },
  {
   "cell_type": "code",
   "execution_count": 69,
   "id": "f6b294c9",
   "metadata": {},
   "outputs": [
    {
     "data": {
      "text/plain": [
       "array([ 16, 100, 144, 529,   4,   1,   0,   0,   0,  36,   9,  49])"
      ]
     },
     "execution_count": 69,
     "metadata": {},
     "output_type": "execute_result"
    }
   ],
   "source": [
    "squared = a **2\n",
    "squared"
   ]
  },
  {
   "cell_type": "code",
   "execution_count": 74,
   "id": "94610c00",
   "metadata": {},
   "outputs": [
    {
     "name": "stdout",
     "output_type": "stream",
     "text": [
      "74.0\n",
      "144.0243035046516\n"
     ]
    }
   ],
   "source": [
    "print(squared.mean())\n",
    "print(squared.std())"
   ]
  },
  {
   "cell_type": "markdown",
   "id": "ffd668b2",
   "metadata": {
    "heading_collapsed": true
   },
   "source": [
    "## ex 6. A common statistical operation on a dataset is centering. \n",
    "This means to adjust the data such that the mean of the data is 0. \n",
    "This is done by subtracting the mean from each data point. \n",
    "Center the data set. \n",
    "See this link for more on centering."
   ]
  },
  {
   "cell_type": "code",
   "execution_count": 75,
   "id": "b296b6cb",
   "metadata": {
    "hidden": true
   },
   "outputs": [
    {
     "data": {
      "text/plain": [
       "3.0"
      ]
     },
     "execution_count": 75,
     "metadata": {},
     "output_type": "execute_result"
    }
   ],
   "source": [
    "a.mean()"
   ]
  },
  {
   "cell_type": "code",
   "execution_count": 78,
   "id": "50f70c99",
   "metadata": {
    "hidden": true
   },
   "outputs": [
    {
     "data": {
      "text/plain": [
       "array([  1.,   7.,   9.,  20.,  -5.,  -4.,  -3.,  -3.,  -3.,  -9.,   0.,\n",
       "       -10.])"
      ]
     },
     "execution_count": 78,
     "metadata": {},
     "output_type": "execute_result"
    }
   ],
   "source": [
    "centered = a - a.mean()\n",
    "centered"
   ]
  },
  {
   "cell_type": "code",
   "execution_count": 79,
   "id": "14c913f3",
   "metadata": {
    "hidden": true
   },
   "outputs": [
    {
     "data": {
      "text/plain": [
       "0.0"
      ]
     },
     "execution_count": 79,
     "metadata": {},
     "output_type": "execute_result"
    }
   ],
   "source": [
    "centered.mean()"
   ]
  },
  {
   "cell_type": "markdown",
   "id": "6f6404e7",
   "metadata": {
    "heading_collapsed": true
   },
   "source": [
    "## ex 7. Calculate the z-score for each data point. Recall that the z-score is given by:"
   ]
  },
  {
   "cell_type": "code",
   "execution_count": 80,
   "id": "14cee7e9",
   "metadata": {
    "hidden": true
   },
   "outputs": [
    {
     "data": {
      "text/plain": [
       "array([ 0.12403473,  0.86824314,  1.11631261,  2.48069469, -0.62017367,\n",
       "       -0.49613894, -0.3721042 , -0.3721042 , -0.3721042 , -1.11631261,\n",
       "        0.        , -1.24034735])"
      ]
     },
     "execution_count": 80,
     "metadata": {},
     "output_type": "execute_result"
    }
   ],
   "source": [
    "za= ((a) - (a.mean())) / (a.std())\n",
    "za"
   ]
  },
  {
   "cell_type": "markdown",
   "id": "0d56c60c",
   "metadata": {},
   "source": [
    "## ex 8. Copy the setup and exercise directions from More Numpy Practice into your numpy_exercises.py and add your solutions."
   ]
  },
  {
   "cell_type": "markdown",
   "id": "42e2f542",
   "metadata": {
    "heading_collapsed": true
   },
   "source": [
    "### Setup 1"
   ]
  },
  {
   "cell_type": "code",
   "execution_count": 81,
   "id": "0c7a2553",
   "metadata": {
    "hidden": true
   },
   "outputs": [],
   "source": [
    "a = [1, 2, 3, 4, 5, 6, 7, 8, 9, 10]"
   ]
  },
  {
   "cell_type": "markdown",
   "id": "934934be",
   "metadata": {
    "heading_collapsed": true,
    "hidden": true
   },
   "source": [
    "#### Exercise 1 - Make a variable called sum_of_a to hold the sum of all the numbers in above list"
   ]
  },
  {
   "cell_type": "code",
   "execution_count": 94,
   "id": "d9591bc1",
   "metadata": {
    "hidden": true
   },
   "outputs": [
    {
     "data": {
      "text/plain": [
       "55"
      ]
     },
     "execution_count": 94,
     "metadata": {},
     "output_type": "execute_result"
    }
   ],
   "source": [
    "sum_of_a = sum(a)\n",
    "sum_of_a"
   ]
  },
  {
   "cell_type": "markdown",
   "id": "608d3f98",
   "metadata": {
    "heading_collapsed": true,
    "hidden": true
   },
   "source": [
    "#### Exercise 2 - Make a variable named min_of_a to hold the minimum of all the numbers in the above list"
   ]
  },
  {
   "cell_type": "code",
   "execution_count": 95,
   "id": "1de3cd2d",
   "metadata": {
    "hidden": true
   },
   "outputs": [
    {
     "data": {
      "text/plain": [
       "1"
      ]
     },
     "execution_count": 95,
     "metadata": {},
     "output_type": "execute_result"
    }
   ],
   "source": [
    "min_of_a = min(a)\n",
    "min_of_a"
   ]
  },
  {
   "cell_type": "markdown",
   "id": "ef0f4192",
   "metadata": {
    "heading_collapsed": true,
    "hidden": true
   },
   "source": [
    "#### Exercise 3 - Make a variable named max_of_a to hold the max number of all the numbers in the above list"
   ]
  },
  {
   "cell_type": "code",
   "execution_count": 96,
   "id": "48c0fe9a",
   "metadata": {
    "hidden": true
   },
   "outputs": [
    {
     "data": {
      "text/plain": [
       "10"
      ]
     },
     "execution_count": 96,
     "metadata": {},
     "output_type": "execute_result"
    }
   ],
   "source": [
    "max_of_a = max(a)\n",
    "max_of_a"
   ]
  },
  {
   "cell_type": "markdown",
   "id": "351ae4bd",
   "metadata": {
    "heading_collapsed": true,
    "hidden": true
   },
   "source": [
    "#### Exercise 4 - Make a variable named mean_of_a to hold the average of all the numbers in the above list"
   ]
  },
  {
   "cell_type": "code",
   "execution_count": 98,
   "id": "099989a8",
   "metadata": {
    "hidden": true
   },
   "outputs": [
    {
     "data": {
      "text/plain": [
       "5.5"
      ]
     },
     "execution_count": 98,
     "metadata": {},
     "output_type": "execute_result"
    }
   ],
   "source": [
    "mean_of_a = (sum(a) / len(a))\n",
    "mean_of_a"
   ]
  },
  {
   "cell_type": "markdown",
   "id": "53e4625c",
   "metadata": {
    "heading_collapsed": true,
    "hidden": true
   },
   "source": [
    "#### Exercise 5 - Make a variable named product_of_a to hold the product of multiplying all the numbers in the above list together"
   ]
  },
  {
   "cell_type": "code",
   "execution_count": 88,
   "id": "b1d907b8",
   "metadata": {
    "hidden": true
   },
   "outputs": [
    {
     "data": {
      "text/plain": [
       "3628800"
      ]
     },
     "execution_count": 88,
     "metadata": {},
     "output_type": "execute_result"
    }
   ],
   "source": [
    "product_of_a = 1\n",
    "\n",
    "for n in a:\n",
    "    product_of_a *= n\n",
    "    \n",
    "product_of_a"
   ]
  },
  {
   "cell_type": "markdown",
   "id": "52d1d82c",
   "metadata": {
    "heading_collapsed": true,
    "hidden": true
   },
   "source": [
    "#### Exercise 6 - Make a variable named squares_of_a. It should hold each number in a squared like [1, 4, 9, 16, 25...]"
   ]
  },
  {
   "cell_type": "code",
   "execution_count": 89,
   "id": "d5fb08b0",
   "metadata": {
    "hidden": true
   },
   "outputs": [
    {
     "data": {
      "text/plain": [
       "[1, 4, 9, 16, 25, 36, 49, 64, 81, 100]"
      ]
     },
     "execution_count": 89,
     "metadata": {},
     "output_type": "execute_result"
    }
   ],
   "source": [
    "squares_of_a = []\n",
    "\n",
    "for n in a:\n",
    "\n",
    "    squares_of_a.append(n**2)\n",
    "\n",
    "squares_of_a"
   ]
  },
  {
   "cell_type": "markdown",
   "id": "bce28b06",
   "metadata": {
    "heading_collapsed": true,
    "hidden": true
   },
   "source": [
    "#### Exercise 7 - Make a variable named odds_in_a. It should hold only the odd numbers"
   ]
  },
  {
   "cell_type": "code",
   "execution_count": 90,
   "id": "6aa00df7",
   "metadata": {
    "hidden": true
   },
   "outputs": [
    {
     "data": {
      "text/plain": [
       "[1, 3, 5, 7, 9]"
      ]
     },
     "execution_count": 90,
     "metadata": {},
     "output_type": "execute_result"
    }
   ],
   "source": [
    "odds_in_a = []\n",
    "\n",
    "for n in a:\n",
    "\n",
    "    if n%2 != 0:\n",
    "        odds_in_a.append(n)\n",
    "\n",
    "odds_in_a"
   ]
  },
  {
   "cell_type": "markdown",
   "id": "a7c4c50c",
   "metadata": {
    "heading_collapsed": true,
    "hidden": true
   },
   "source": [
    "#### Exercise 8 - Make a variable named evens_in_a. It should hold only the evens."
   ]
  },
  {
   "cell_type": "code",
   "execution_count": 91,
   "id": "b9bf9770",
   "metadata": {
    "hidden": true
   },
   "outputs": [
    {
     "data": {
      "text/plain": [
       "[2, 4, 6, 8, 10]"
      ]
     },
     "execution_count": 91,
     "metadata": {},
     "output_type": "execute_result"
    }
   ],
   "source": [
    "evens_in_a = []\n",
    "\n",
    "for n in a:\n",
    "\n",
    "    if n%2 == 0:\n",
    "        evens_in_a.append(n)\n",
    "\n",
    "evens_in_a"
   ]
  },
  {
   "cell_type": "markdown",
   "id": "82b0531e",
   "metadata": {
    "heading_collapsed": true
   },
   "source": [
    "### Setup 2 -Consider what it would take to find the sum, min, max, average, sum, product, and list of squares for this list of two lists."
   ]
  },
  {
   "cell_type": "code",
   "execution_count": 101,
   "id": "ca8ba284",
   "metadata": {
    "hidden": true
   },
   "outputs": [],
   "source": [
    "b = [\n",
    "    [3, 4, 5],\n",
    "    [6, 7, 8]\n",
    "]"
   ]
  },
  {
   "cell_type": "markdown",
   "id": "342d35f8",
   "metadata": {
    "hidden": true
   },
   "source": [
    "#### Exercise 1 - refactor the following to use numpy. Use sum_of_b as the variable. \n",
    "**Hint, you'll first need to make sure that the \"b\" variable is a numpy array**"
   ]
  },
  {
   "cell_type": "code",
   "execution_count": null,
   "id": "c332a1af",
   "metadata": {
    "hidden": true
   },
   "outputs": [],
   "source": [
    "sum_of_b = 0\n",
    "for row in b:\n",
    "    sum_of_b += sum(row)\n"
   ]
  },
  {
   "cell_type": "code",
   "execution_count": 103,
   "id": "69ca7511",
   "metadata": {
    "hidden": true
   },
   "outputs": [
    {
     "data": {
      "text/plain": [
       "33"
      ]
     },
     "execution_count": 103,
     "metadata": {},
     "output_type": "execute_result"
    }
   ],
   "source": [
    "array_b = np.array(b)\n",
    "np.sum(array_b)"
   ]
  },
  {
   "cell_type": "markdown",
   "id": "0c54c4f3",
   "metadata": {
    "hidden": true
   },
   "source": [
    "#### Exercise 2 - refactor the following to use numpy. "
   ]
  },
  {
   "cell_type": "code",
   "execution_count": null,
   "id": "ad96782e",
   "metadata": {
    "hidden": true
   },
   "outputs": [],
   "source": [
    "min_of_b = min(b[0]) if min(b[0]) <= min(b[1]) else min(b[1])  "
   ]
  },
  {
   "cell_type": "code",
   "execution_count": 104,
   "id": "dce116a6",
   "metadata": {
    "hidden": true
   },
   "outputs": [
    {
     "data": {
      "text/plain": [
       "3"
      ]
     },
     "execution_count": 104,
     "metadata": {},
     "output_type": "execute_result"
    }
   ],
   "source": [
    "np.min(array_b)"
   ]
  },
  {
   "cell_type": "markdown",
   "id": "3736ebab",
   "metadata": {
    "hidden": true
   },
   "source": [
    "#### Exercise 3 - refactor the following maximum calculation to find the answer with numpy."
   ]
  },
  {
   "cell_type": "code",
   "execution_count": null,
   "id": "21e71e7f",
   "metadata": {
    "hidden": true
   },
   "outputs": [],
   "source": [
    "max_of_b = max(b[0]) if max(b[0]) >= max(b[1]) else max(b[1])"
   ]
  },
  {
   "cell_type": "code",
   "execution_count": 105,
   "id": "a888a438",
   "metadata": {
    "hidden": true
   },
   "outputs": [
    {
     "data": {
      "text/plain": [
       "8"
      ]
     },
     "execution_count": 105,
     "metadata": {},
     "output_type": "execute_result"
    }
   ],
   "source": [
    "np.max(array_b)"
   ]
  },
  {
   "cell_type": "markdown",
   "id": "28df219d",
   "metadata": {
    "hidden": true
   },
   "source": [
    "#### Exercise 4 - refactor the following using numpy to find the mean of b"
   ]
  },
  {
   "cell_type": "code",
   "execution_count": null,
   "id": "4c8f2a65",
   "metadata": {
    "hidden": true
   },
   "outputs": [],
   "source": [
    "mean_of_b = (sum(b[0]) + sum(b[1])) / (len(b[0]) + len(b[1]))"
   ]
  },
  {
   "cell_type": "code",
   "execution_count": 106,
   "id": "5df9337e",
   "metadata": {
    "hidden": true
   },
   "outputs": [
    {
     "data": {
      "text/plain": [
       "5.5"
      ]
     },
     "execution_count": 106,
     "metadata": {},
     "output_type": "execute_result"
    }
   ],
   "source": [
    "np.mean(array_b)"
   ]
  },
  {
   "cell_type": "markdown",
   "id": "4413b870",
   "metadata": {
    "hidden": true
   },
   "source": [
    "#### Exercise 5 - refactor the following to use numpy for calculating the product of all numbers multiplied together."
   ]
  },
  {
   "cell_type": "code",
   "execution_count": null,
   "id": "a255571a",
   "metadata": {
    "hidden": true
   },
   "outputs": [],
   "source": [
    "product_of_b = 1\n",
    "for row in b:\n",
    "    for number in row:\n",
    "        product_of_b *= number"
   ]
  },
  {
   "cell_type": "code",
   "execution_count": 107,
   "id": "b62c4a5e",
   "metadata": {
    "hidden": true
   },
   "outputs": [
    {
     "data": {
      "text/plain": [
       "20160"
      ]
     },
     "execution_count": 107,
     "metadata": {},
     "output_type": "execute_result"
    }
   ],
   "source": [
    "np.prod(array_b)"
   ]
  },
  {
   "cell_type": "markdown",
   "id": "4a820e54",
   "metadata": {
    "hidden": true
   },
   "source": [
    "#### Exercise 6 - refactor the following to use numpy to find the list of squares "
   ]
  },
  {
   "cell_type": "code",
   "execution_count": null,
   "id": "29900f8d",
   "metadata": {
    "hidden": true
   },
   "outputs": [],
   "source": [
    "squares_of_b = []\n",
    "for row in b:\n",
    "    for number in row:\n",
    "        squares_of_b.append(number**2)"
   ]
  },
  {
   "cell_type": "code",
   "execution_count": 108,
   "id": "a1e24583",
   "metadata": {
    "hidden": true
   },
   "outputs": [
    {
     "data": {
      "text/plain": [
       "array([[ 9, 16, 25],\n",
       "       [36, 49, 64]])"
      ]
     },
     "execution_count": 108,
     "metadata": {},
     "output_type": "execute_result"
    }
   ],
   "source": [
    "squared_b= array_b **2\n",
    "squared_b"
   ]
  },
  {
   "cell_type": "markdown",
   "id": "48e3eede",
   "metadata": {
    "hidden": true
   },
   "source": [
    "#### Exercise 7 - refactor using numpy to determine the odds_in_b"
   ]
  },
  {
   "cell_type": "code",
   "execution_count": null,
   "id": "c078bd3d",
   "metadata": {
    "hidden": true
   },
   "outputs": [],
   "source": [
    "odds_in_b = []\n",
    "for row in b:\n",
    "    for number in row:\n",
    "        if(number % 2 != 0):\n",
    "            odds_in_b.append(number)"
   ]
  },
  {
   "cell_type": "code",
   "execution_count": 111,
   "id": "98744226",
   "metadata": {
    "hidden": true
   },
   "outputs": [
    {
     "data": {
      "text/plain": [
       "array([3, 5, 7])"
      ]
     },
     "execution_count": 111,
     "metadata": {},
     "output_type": "execute_result"
    }
   ],
   "source": [
    "odds_of_b = array_b %2 != 0\n",
    "array_b[odds_of_b]"
   ]
  },
  {
   "cell_type": "markdown",
   "id": "59b4ece3",
   "metadata": {
    "hidden": true
   },
   "source": [
    "####  Exercise 8 - refactor the following to use numpy to filter only the even numbers"
   ]
  },
  {
   "cell_type": "code",
   "execution_count": null,
   "id": "5f05152d",
   "metadata": {
    "hidden": true
   },
   "outputs": [],
   "source": [
    "evens_in_b = []\n",
    "for row in b:\n",
    "    for number in row:\n",
    "        if(number % 2 == 0):\n",
    "            evens_in_b.append(number)"
   ]
  },
  {
   "cell_type": "code",
   "execution_count": 112,
   "id": "74aabc06",
   "metadata": {
    "hidden": true
   },
   "outputs": [
    {
     "data": {
      "text/plain": [
       "array([4, 6, 8])"
      ]
     },
     "execution_count": 112,
     "metadata": {},
     "output_type": "execute_result"
    }
   ],
   "source": [
    "array_b[~odds_of_b]"
   ]
  },
  {
   "cell_type": "markdown",
   "id": "60ccc64b",
   "metadata": {
    "heading_collapsed": true
   },
   "source": [
    "### Setup 3"
   ]
  },
  {
   "cell_type": "code",
   "execution_count": 115,
   "id": "cd4c65f8",
   "metadata": {
    "hidden": true
   },
   "outputs": [],
   "source": [
    "c = [\n",
    "    [1, 2, 3],\n",
    "    [4, 5, 6],\n",
    "    [7, 8, 9]\n",
    "]\n",
    "\n",
    "# HINT, you'll first need to make sure that the \"c\" variable is a numpy array prior to using numpy array methods."
   ]
  },
  {
   "cell_type": "markdown",
   "id": "ef14344e",
   "metadata": {
    "hidden": true
   },
   "source": [
    "#### Exercise 1 - Find the min, max, sum, and product of c."
   ]
  },
  {
   "cell_type": "code",
   "execution_count": 117,
   "id": "bd814249",
   "metadata": {
    "hidden": true
   },
   "outputs": [
    {
     "data": {
      "text/plain": [
       "array([[1, 2, 3],\n",
       "       [4, 5, 6],\n",
       "       [7, 8, 9]])"
      ]
     },
     "execution_count": 117,
     "metadata": {},
     "output_type": "execute_result"
    }
   ],
   "source": [
    "array_c = np.array(c)\n",
    "array_c"
   ]
  },
  {
   "cell_type": "code",
   "execution_count": 121,
   "id": "a9e0e124",
   "metadata": {
    "hidden": true
   },
   "outputs": [
    {
     "name": "stdout",
     "output_type": "stream",
     "text": [
      "min 1\n",
      "max 9\n",
      "sum 45\n",
      "prod 362880\n"
     ]
    }
   ],
   "source": [
    "print('min', np.min(array_c))\n",
    "print('max', np.max(array_c))\n",
    "print('sum', np.sum(array_c))\n",
    "print('prod', np.prod(array_c))"
   ]
  },
  {
   "cell_type": "markdown",
   "id": "41d975c8",
   "metadata": {
    "hidden": true
   },
   "source": [
    "#### Exercise 2 - Determine the standard deviation of c."
   ]
  },
  {
   "cell_type": "code",
   "execution_count": 122,
   "id": "384088f2",
   "metadata": {
    "hidden": true
   },
   "outputs": [
    {
     "data": {
      "text/plain": [
       "2.581988897471611"
      ]
     },
     "execution_count": 122,
     "metadata": {},
     "output_type": "execute_result"
    }
   ],
   "source": [
    "np.std(array_c)"
   ]
  },
  {
   "cell_type": "markdown",
   "id": "632f9028",
   "metadata": {
    "hidden": true
   },
   "source": [
    "#### Exercise 3 - Determine the variance of c."
   ]
  },
  {
   "cell_type": "code",
   "execution_count": 126,
   "id": "addde155",
   "metadata": {
    "hidden": true
   },
   "outputs": [
    {
     "data": {
      "text/plain": [
       "6.666666666666667"
      ]
     },
     "execution_count": 126,
     "metadata": {},
     "output_type": "execute_result"
    }
   ],
   "source": [
    "array_c.var()"
   ]
  },
  {
   "cell_type": "markdown",
   "id": "c219f5ef",
   "metadata": {
    "hidden": true
   },
   "source": [
    "#### Exercise 4 - Print out the shape of the array c"
   ]
  },
  {
   "cell_type": "code",
   "execution_count": 128,
   "id": "433fbb9f",
   "metadata": {
    "hidden": true
   },
   "outputs": [
    {
     "data": {
      "text/plain": [
       "(3, 3)"
      ]
     },
     "execution_count": 128,
     "metadata": {},
     "output_type": "execute_result"
    }
   ],
   "source": [
    "array_c.shape"
   ]
  },
  {
   "cell_type": "markdown",
   "id": "497e1345",
   "metadata": {
    "hidden": true
   },
   "source": [
    "#### Exercise 5 - Transpose c and print out transposed result."
   ]
  },
  {
   "cell_type": "code",
   "execution_count": 132,
   "id": "e1dd5483",
   "metadata": {
    "hidden": true
   },
   "outputs": [],
   "source": [
    "trans_c = array_c.T"
   ]
  },
  {
   "cell_type": "markdown",
   "id": "d8c5379c",
   "metadata": {
    "hidden": true
   },
   "source": [
    "#### Exercise 6 - Get the dot product of the array c with c. "
   ]
  },
  {
   "cell_type": "code",
   "execution_count": 130,
   "id": "70708889",
   "metadata": {
    "hidden": true
   },
   "outputs": [
    {
     "data": {
      "text/plain": [
       "array([[ 30,  36,  42],\n",
       "       [ 66,  81,  96],\n",
       "       [102, 126, 150]])"
      ]
     },
     "execution_count": 130,
     "metadata": {},
     "output_type": "execute_result"
    }
   ],
   "source": [
    "np.dot(array_c, c)"
   ]
  },
  {
   "cell_type": "markdown",
   "id": "236e3d7f",
   "metadata": {
    "hidden": true
   },
   "source": [
    "#### Exercise 7 - Write the code necessary to sum up the result of c times c transposed. Answer should be 261"
   ]
  },
  {
   "cell_type": "code",
   "execution_count": 140,
   "id": "c24871df",
   "metadata": {
    "hidden": true
   },
   "outputs": [
    {
     "data": {
      "text/plain": [
       "261"
      ]
     },
     "execution_count": 140,
     "metadata": {},
     "output_type": "execute_result"
    }
   ],
   "source": [
    "trans_c_by_c = trans_c * c\n",
    "np.sum(trans_c_by_c)"
   ]
  },
  {
   "cell_type": "markdown",
   "id": "60d33e74",
   "metadata": {
    "hidden": true
   },
   "source": [
    "#### Exercise 8 - Write the code necessary to determine the product of c times c transposed. Answer should be 131681894400."
   ]
  },
  {
   "cell_type": "code",
   "execution_count": 145,
   "id": "2de1de4c",
   "metadata": {
    "hidden": true
   },
   "outputs": [
    {
     "data": {
      "text/plain": [
       "131681894400"
      ]
     },
     "execution_count": 145,
     "metadata": {},
     "output_type": "execute_result"
    }
   ],
   "source": [
    "trans_c_by_c.prod()\n"
   ]
  },
  {
   "cell_type": "markdown",
   "id": "499dad75",
   "metadata": {},
   "source": [
    "### Setup 4"
   ]
  },
  {
   "cell_type": "code",
   "execution_count": 146,
   "id": "dd2cf9d6",
   "metadata": {},
   "outputs": [],
   "source": [
    "d = [\n",
    "    [90, 30, 45, 0, 120, 180],\n",
    "    [45, -90, -30, 270, 90, 0],\n",
    "    [60, 45, -45, 90, -45, 180]\n",
    "]\n"
   ]
  },
  {
   "cell_type": "code",
   "execution_count": 147,
   "id": "b3d6b1de",
   "metadata": {},
   "outputs": [],
   "source": [
    "array_d = np.array(d)"
   ]
  },
  {
   "cell_type": "markdown",
   "id": "fe98fec2",
   "metadata": {},
   "source": [
    "#### Exercise 1 - Find the sine of all the numbers in d"
   ]
  },
  {
   "cell_type": "code",
   "execution_count": 148,
   "id": "14fd5e0a",
   "metadata": {},
   "outputs": [
    {
     "data": {
      "text/plain": [
       "array([[ 0.89399666, -0.98803162,  0.85090352,  0.        ,  0.58061118,\n",
       "        -0.80115264],\n",
       "       [ 0.85090352, -0.89399666,  0.98803162, -0.17604595,  0.89399666,\n",
       "         0.        ],\n",
       "       [-0.30481062,  0.85090352, -0.85090352,  0.89399666, -0.85090352,\n",
       "        -0.80115264]])"
      ]
     },
     "execution_count": 148,
     "metadata": {},
     "output_type": "execute_result"
    }
   ],
   "source": [
    "np.sin(array_d)"
   ]
  },
  {
   "cell_type": "markdown",
   "id": "739509e2",
   "metadata": {},
   "source": [
    "#### Exercise 2 - Find the cosine of all the numbers in d"
   ]
  },
  {
   "cell_type": "code",
   "execution_count": 149,
   "id": "cce30740",
   "metadata": {},
   "outputs": [
    {
     "data": {
      "text/plain": [
       "array([[-0.44807362,  0.15425145,  0.52532199,  1.        ,  0.81418097,\n",
       "        -0.59846007],\n",
       "       [ 0.52532199, -0.44807362,  0.15425145,  0.98438195, -0.44807362,\n",
       "         1.        ],\n",
       "       [-0.95241298,  0.52532199,  0.52532199, -0.44807362,  0.52532199,\n",
       "        -0.59846007]])"
      ]
     },
     "execution_count": 149,
     "metadata": {},
     "output_type": "execute_result"
    }
   ],
   "source": [
    "np.cos(array_d)"
   ]
  },
  {
   "cell_type": "markdown",
   "id": "bd28c48a",
   "metadata": {},
   "source": [
    "#### Exercise 3 - Find the tangent of all the numbers in d"
   ]
  },
  {
   "cell_type": "code",
   "execution_count": 150,
   "id": "1fdd9800",
   "metadata": {},
   "outputs": [
    {
     "data": {
      "text/plain": [
       "array([[-1.99520041, -6.4053312 ,  1.61977519,  0.        ,  0.71312301,\n",
       "         1.33869021],\n",
       "       [ 1.61977519,  1.99520041,  6.4053312 , -0.17883906, -1.99520041,\n",
       "         0.        ],\n",
       "       [ 0.32004039,  1.61977519, -1.61977519, -1.99520041, -1.61977519,\n",
       "         1.33869021]])"
      ]
     },
     "execution_count": 150,
     "metadata": {},
     "output_type": "execute_result"
    }
   ],
   "source": [
    "np.tan(array_d)"
   ]
  },
  {
   "cell_type": "markdown",
   "id": "a14bc37c",
   "metadata": {},
   "source": [
    "#### Exercise 4 - Find all the negative numbers in d"
   ]
  },
  {
   "cell_type": "code",
   "execution_count": 152,
   "id": "b4968d19",
   "metadata": {},
   "outputs": [
    {
     "data": {
      "text/plain": [
       "array([-90, -30, -45, -45])"
      ]
     },
     "execution_count": 152,
     "metadata": {},
     "output_type": "execute_result"
    }
   ],
   "source": [
    "array_d_neg = array_d < 0\n",
    "array_d[array_d_neg]"
   ]
  },
  {
   "cell_type": "markdown",
   "id": "b453f9e2",
   "metadata": {},
   "source": [
    "#### Exercise 5 - Find all the positive numbers in d"
   ]
  },
  {
   "cell_type": "code",
   "execution_count": 153,
   "id": "a6187181",
   "metadata": {},
   "outputs": [
    {
     "data": {
      "text/plain": [
       "array([ 90,  30,  45,   0, 120, 180,  45, 270,  90,   0,  60,  45,  90,\n",
       "       180])"
      ]
     },
     "execution_count": 153,
     "metadata": {},
     "output_type": "execute_result"
    }
   ],
   "source": [
    "array_d[~array_d_neg]"
   ]
  },
  {
   "cell_type": "markdown",
   "id": "f728b55e",
   "metadata": {},
   "source": [
    "#### Exercise 6 - Return an array of only the unique numbers in d."
   ]
  },
  {
   "cell_type": "code",
   "execution_count": 155,
   "id": "d2d1cb96",
   "metadata": {},
   "outputs": [
    {
     "data": {
      "text/plain": [
       "array([-90, -45, -30,   0,  30,  45,  60,  90, 120, 180, 270])"
      ]
     },
     "execution_count": 155,
     "metadata": {},
     "output_type": "execute_result"
    }
   ],
   "source": [
    "np.unique(array_d)"
   ]
  },
  {
   "cell_type": "markdown",
   "id": "203ec87d",
   "metadata": {},
   "source": [
    "#### Exercise 7 - Determine how many unique numbers there are in d."
   ]
  },
  {
   "cell_type": "code",
   "execution_count": 156,
   "id": "359bf6ea",
   "metadata": {},
   "outputs": [
    {
     "data": {
      "text/plain": [
       "11"
      ]
     },
     "execution_count": 156,
     "metadata": {},
     "output_type": "execute_result"
    }
   ],
   "source": [
    "len(np.unique(array_d))"
   ]
  },
  {
   "cell_type": "markdown",
   "id": "22b59671",
   "metadata": {},
   "source": [
    "#### Exercise 8 - Print out the shape of d."
   ]
  },
  {
   "cell_type": "code",
   "execution_count": 160,
   "id": "e85ef479",
   "metadata": {},
   "outputs": [
    {
     "data": {
      "text/plain": [
       "(3, 6)"
      ]
     },
     "execution_count": 160,
     "metadata": {},
     "output_type": "execute_result"
    }
   ],
   "source": [
    "array_d.shape"
   ]
  },
  {
   "cell_type": "markdown",
   "id": "b8b57baf",
   "metadata": {},
   "source": [
    "#### Exercise 9 - Transpose and then print out the shape of d."
   ]
  },
  {
   "cell_type": "code",
   "execution_count": 161,
   "id": "6a61605b",
   "metadata": {},
   "outputs": [
    {
     "data": {
      "text/plain": [
       "(6, 3)"
      ]
     },
     "execution_count": 161,
     "metadata": {},
     "output_type": "execute_result"
    }
   ],
   "source": [
    "(array_d.T).shape"
   ]
  },
  {
   "cell_type": "markdown",
   "id": "62f2b39a",
   "metadata": {},
   "source": [
    "#### Exercise 10 - Reshape d into an array of 9 x 2"
   ]
  },
  {
   "cell_type": "code",
   "execution_count": 166,
   "id": "3237b621",
   "metadata": {},
   "outputs": [
    {
     "data": {
      "text/plain": [
       "array([[ 90,  30],\n",
       "       [ 45,   0],\n",
       "       [120, 180],\n",
       "       [ 45, -90],\n",
       "       [-30, 270],\n",
       "       [ 90,   0],\n",
       "       [ 60,  45],\n",
       "       [-45,  90],\n",
       "       [-45, 180]])"
      ]
     },
     "execution_count": 166,
     "metadata": {},
     "output_type": "execute_result"
    }
   ],
   "source": [
    "np.reshape(array_d, (9,2))"
   ]
  },
  {
   "cell_type": "code",
   "execution_count": null,
   "id": "8b697699",
   "metadata": {},
   "outputs": [],
   "source": []
  }
 ],
 "metadata": {
  "kernelspec": {
   "display_name": "Python 3 (ipykernel)",
   "language": "python",
   "name": "python3"
  },
  "language_info": {
   "codemirror_mode": {
    "name": "ipython",
    "version": 3
   },
   "file_extension": ".py",
   "mimetype": "text/x-python",
   "name": "python",
   "nbconvert_exporter": "python",
   "pygments_lexer": "ipython3",
   "version": "3.11.5"
  }
 },
 "nbformat": 4,
 "nbformat_minor": 5
}
